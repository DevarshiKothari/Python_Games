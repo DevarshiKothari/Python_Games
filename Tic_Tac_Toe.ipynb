{
 "metadata": {
  "language_info": {
   "codemirror_mode": {
    "name": "ipython",
    "version": 3
   },
   "file_extension": ".py",
   "mimetype": "text/x-python",
   "name": "python",
   "nbconvert_exporter": "python",
   "pygments_lexer": "ipython3",
   "version": 3
  },
  "orig_nbformat": 2,
  "kernelspec": {
   "name": "python_defaultSpec_1596801019467",
   "display_name": "Python 3.8.5 64-bit"
  }
 },
 "nbformat": 4,
 "nbformat_minor": 2,
 "cells": [
  {
   "cell_type": "code",
   "execution_count": 2,
   "metadata": {},
   "outputs": [],
   "source": [
    "holder={1:\" \",2:\" \",3:\" \",4:\" \",5:\" \",6:\" \",7:\" \",8:\" \",9:\" \"}"
   ]
  },
  {
   "cell_type": "code",
   "execution_count": 3,
   "metadata": {},
   "outputs": [],
   "source": [
    "def start():\n",
    "    #ans=\"Ask\"\n",
    "    a = input(\"Shall we start,Y or N >>\").lower()\n",
    "    if(a == 'y'):\n",
    "        return True\n",
    "    else:\n",
    "        return False"
   ]
  },
  {
   "cell_type": "code",
   "execution_count": 4,
   "metadata": {},
   "outputs": [],
   "source": [
    "def print_board():\n",
    "    print(\" {} | {} | {} \\n---|---|---\\n {} | {} | {} \\n---|---|---\\n {} | {} | {} \".format(holder[1],holder[2],holder[3],holder[4],holder[5],holder[6],holder[7],holder[8],holder[9]))"
   ]
  },
  {
   "cell_type": "code",
   "execution_count": 5,
   "metadata": {},
   "outputs": [],
   "source": [
    "def choose(values):\n",
    "    \n",
    "    place='wrong'\n",
    "    \n",
    "    while(place not in values):\n",
    "        \n",
    "        place=int(input(\"Enter number b/w 1 to 9 >>\"))\n",
    "        \n",
    "        if place not in values:\n",
    "            print(\"Invalid choice, please enter again\")\n",
    "        \n",
    "    values.remove(place)\n",
    "    return (values,place)"
   ]
  },
  {
   "cell_type": "code",
   "execution_count": 6,
   "metadata": {},
   "outputs": [],
   "source": [
    "def new_holder(values,place,c):\n",
    "    if c==1:\n",
    "        holder[place]='X'\n",
    "        c=0\n",
    "    else:\n",
    "        holder[place]='O'\n",
    "        c=1\n",
    "    print_board()\n",
    "    return holder,c"
   ]
  },
  {
   "cell_type": "code",
   "execution_count": 7,
   "metadata": {},
   "outputs": [],
   "source": [
    "def check(holder,c):\n",
    "    if( (holder[1]==holder[2]==holder[3]=='X') or\n",
    "      (holder[4]==holder[5]==holder[6]=='X') or\n",
    "      (holder[7]==holder[8]==holder[9]=='X') or\n",
    "      (holder[1]==holder[5]==holder[9]=='X') or\n",
    "      (holder[3]==holder[5]==holder[7]=='X') or\n",
    "      (holder[1]==holder[4]==holder[7]=='X') or\n",
    "      (holder[2]==holder[5]==holder[8]=='X') or\n",
    "      (holder[3]==holder[6]==holder[9]=='X') or\n",
    "      (holder[1]==holder[2]==holder[3]=='O') or\n",
    "      (holder[4]==holder[5]==holder[6]=='O') or\n",
    "      (holder[7]==holder[8]==holder[9]=='O') or\n",
    "      (holder[1]==holder[5]==holder[9]=='O') or\n",
    "      (holder[3]==holder[5]==holder[7]=='O') or\n",
    "      (holder[1]==holder[4]==holder[7]=='O') or\n",
    "      (holder[2]==holder[5]==holder[8]=='O') or\n",
    "      (holder[3]==holder[6]==holder[9]=='O') ):\n",
    "        #if( holder[1]==\" \" or holder[2]==\" \" or holder[3]==\" \" or ):\n",
    "        if(c==0):\n",
    "            print('X won the game,Congrats')\n",
    "        else:\n",
    "            print('O won the game,Congrats')\n",
    "        return 'Complete'"
   ]
  },
  {
   "cell_type": "code",
   "execution_count": 8,
   "metadata": {},
   "outputs": [],
   "source": [
    "def still_interested():\n",
    "    interested = False\n",
    "    #ans = input(\"Still wanna play Tic Tac Toe, answer in Y or N >>\").lower()\n",
    "    \n",
    "    while(not interested):\n",
    "        ans = input(\"Still wanna play Tic Tac Toe, answer in Y or N >>\").lower()\n",
    "        if(ans=='y'):\n",
    "            interested = True\n",
    "        elif(ans=='n'):\n",
    "            print(\"Hope you enjoyed the game :)\")\n",
    "            break\n",
    "        else:\n",
    "            print(\"Please answer in Y or N\")\n",
    "    return interested"
   ]
  },
  {
   "cell_type": "code",
   "execution_count": 9,
   "metadata": {
    "tags": []
   },
   "outputs": [
    {
     "output_type": "stream",
     "name": "stdout",
     "text": "|   |   \n---|---|---\n   |   |   \n---|---|---\n   |   |   \n   |   |   \n---|---|---\n X |   |   \n---|---|---\n   |   |   \n   |   | O \n---|---|---\n X |   |   \n---|---|---\n   |   |   \nPlease answer in Y or N\n X |   | O \n---|---|---\n X |   |   \n---|---|---\n   |   |   \n X |   | O \n---|---|---\n X |   |   \n---|---|---\n   |   | O \nPlease answer in Y or N\n X |   | O \n---|---|---\n X | X |   \n---|---|---\n   |   | O \n X |   | O \n---|---|---\n X | X | O \n---|---|---\n   |   | O \nO won the game,Congrats\n"
    }
   ],
   "source": [
    "class Game:\n",
    "\n",
    "    #holder={1:\" \",2:\" \",3:\" \",4:\" \",5:\" \",6:\" \",7:\" \",8:\" \",9:\" \"}\n",
    "    #values = list(range(1,10))\n",
    "    \n",
    "    \n",
    "    def Tic_Tac_Toe():\n",
    "        \n",
    "        holder={1:\" \",2:\" \",3:\" \",4:\" \",5:\" \",6:\" \",7:\" \",8:\" \",9:\" \"}\n",
    "        c=1\n",
    "        values = list(range(1,10))\n",
    "        interest = start()\n",
    "\n",
    "        if interest:\n",
    "            print_board()\n",
    "\n",
    "        while(interest):\n",
    "\n",
    "            new_values,index = choose(values)\n",
    "\n",
    "            holder,c=new_holder(new_values,index,c)\n",
    "            \n",
    "            progress=check(holder,c)\n",
    "            if progress=='Complete':\n",
    "                break\n",
    "\n",
    "            interest = still_interested()\n",
    "            \n",
    "    Tic_Tac_Toe()"
   ]
  },
  {
   "cell_type": "code",
   "execution_count": null,
   "metadata": {},
   "outputs": [],
   "source": []
  }
 ]
}