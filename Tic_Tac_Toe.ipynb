{
 "metadata": {
  "language_info": {
   "codemirror_mode": {
    "name": "ipython",
    "version": 3
   },
   "file_extension": ".py",
   "mimetype": "text/x-python",
   "name": "python",
   "nbconvert_exporter": "python",
   "pygments_lexer": "ipython3",
   "version": 3
  },
  "orig_nbformat": 2,
  "kernelspec": {
   "name": "python_defaultSpec_1596801409680",
   "display_name": "Python 3.8.5 64-bit"
  }
 },
 "nbformat": 4,
 "nbformat_minor": 2,
 "cells": [
  {
   "cell_type": "code",
   "execution_count": 35,
   "metadata": {},
   "outputs": [],
   "source": [
    "holder={1:\" \",2:\" \",3:\" \",4:\" \",5:\" \",6:\" \",7:\" \",8:\" \",9:\" \"}"
   ]
  },
  {
   "cell_type": "code",
   "execution_count": 36,
   "metadata": {},
   "outputs": [],
   "source": [
    "def start():\n",
    "    #ans=\"Ask\"\n",
    "    a = input(\"Shall we start,Y or N >>\").lower()\n",
    "    if(a == 'y'):\n",
    "        return True\n",
    "    else:\n",
    "        return False"
   ]
  },
  {
   "cell_type": "code",
   "execution_count": 37,
   "metadata": {},
   "outputs": [],
   "source": [
    "def print_board():\n",
    "    print(\" {} | {} | {} \\n---|---|---\\n {} | {} | {} \\n---|---|---\\n {} | {} | {} \".format(holder[1],holder[2],holder[3],holder[4],holder[5],holder[6],holder[7],holder[8],holder[9]))"
   ]
  },
  {
   "cell_type": "code",
   "execution_count": 38,
   "metadata": {},
   "outputs": [],
   "source": [
    "def choose(values):\n",
    "    \n",
    "    place='wrong'\n",
    "    \n",
    "    while(place not in values):\n",
    "        \n",
    "        place=int(input(\"Enter number b/w 1 to 9 >>\"))\n",
    "        \n",
    "        if place not in values:\n",
    "            print(\"Invalid choice, please enter again\")\n",
    "        \n",
    "    values.remove(place)\n",
    "    return (values,place)"
   ]
  },
  {
   "cell_type": "code",
   "execution_count": 39,
   "metadata": {},
   "outputs": [],
   "source": [
    "def new_holder(values,place,c):\n",
    "    if c==1:\n",
    "        holder[place]='X'\n",
    "        c=0\n",
    "    else:\n",
    "        holder[place]='O'\n",
    "        c=1\n",
    "    print_board()\n",
    "    return holder,c"
   ]
  },
  {
   "cell_type": "code",
   "execution_count": 40,
   "metadata": {},
   "outputs": [],
   "source": [
    "def check(holder,c):\n",
    "    if( (holder[1]==holder[2]==holder[3]=='X') or\n",
    "      (holder[4]==holder[5]==holder[6]=='X') or\n",
    "      (holder[7]==holder[8]==holder[9]=='X') or\n",
    "      (holder[1]==holder[5]==holder[9]=='X') or\n",
    "      (holder[3]==holder[5]==holder[7]=='X') or\n",
    "      (holder[1]==holder[4]==holder[7]=='X') or\n",
    "      (holder[2]==holder[5]==holder[8]=='X') or\n",
    "      (holder[3]==holder[6]==holder[9]=='X') or\n",
    "      (holder[1]==holder[2]==holder[3]=='O') or\n",
    "      (holder[4]==holder[5]==holder[6]=='O') or\n",
    "      (holder[7]==holder[8]==holder[9]=='O') or\n",
    "      (holder[1]==holder[5]==holder[9]=='O') or\n",
    "      (holder[3]==holder[5]==holder[7]=='O') or\n",
    "      (holder[1]==holder[4]==holder[7]=='O') or\n",
    "      (holder[2]==holder[5]==holder[8]=='O') or\n",
    "      (holder[3]==holder[6]==holder[9]=='O') ):\n",
    "        if(c==0):\n",
    "            print('X won the game,Congrats')\n",
    "        else:\n",
    "            print('O won the game,Congrats')\n",
    "        return 'Complete'"
   ]
  },
  {
   "cell_type": "code",
   "execution_count": 41,
   "metadata": {},
   "outputs": [],
   "source": [
    "def still_interested():\n",
    "    interested = False\n",
    "    #ans = input(\"Still wanna play Tic Tac Toe, answer in Y or N >>\").lower()\n",
    "    \n",
    "    while(not interested):\n",
    "        ans = input(\"Still wanna play Tic Tac Toe, answer in Y or N >>\").lower()\n",
    "        if(ans=='y'):\n",
    "            interested = True\n",
    "        elif(ans=='n'):\n",
    "            print(\"Hope you enjoyed the game :)\")\n",
    "            break\n",
    "        else:\n",
    "            print(\"Please answer in Y or N\")\n",
    "    return interested"
   ]
  },
  {
   "cell_type": "code",
   "execution_count": 42,
   "metadata": {
    "tags": []
   },
   "outputs": [
    {
     "output_type": "stream",
     "name": "stdout",
     "text": "|   |   \n---|---|---\n   |   |   \n---|---|---\n   |   |   \n"
    },
    {
     "output_type": "error",
     "ename": "ValueError",
     "evalue": "invalid literal for int() with base 10: 'y'",
     "traceback": [
      "\u001b[1;31m---------------------------------------------------------------------------\u001b[0m",
      "\u001b[1;31mValueError\u001b[0m                                Traceback (most recent call last)",
      "\u001b[1;32m<ipython-input-42-57a87549c821>\u001b[0m in \u001b[0;36m<module>\u001b[1;34m\u001b[0m\n\u001b[0;32m     21\u001b[0m         \u001b[0minterest\u001b[0m \u001b[1;33m=\u001b[0m \u001b[0mstill_interested\u001b[0m\u001b[1;33m(\u001b[0m\u001b[1;33m)\u001b[0m\u001b[1;33m\u001b[0m\u001b[1;33m\u001b[0m\u001b[0m\n\u001b[0;32m     22\u001b[0m \u001b[1;33m\u001b[0m\u001b[0m\n\u001b[1;32m---> 23\u001b[1;33m \u001b[0mTic_Tac_Toe\u001b[0m\u001b[1;33m(\u001b[0m\u001b[1;33m)\u001b[0m\u001b[1;33m\u001b[0m\u001b[1;33m\u001b[0m\u001b[0m\n\u001b[0m",
      "\u001b[1;32m<ipython-input-42-57a87549c821>\u001b[0m in \u001b[0;36mTic_Tac_Toe\u001b[1;34m()\u001b[0m\n\u001b[0;32m     11\u001b[0m     \u001b[1;32mwhile\u001b[0m\u001b[1;33m(\u001b[0m\u001b[0minterest\u001b[0m\u001b[1;33m)\u001b[0m\u001b[1;33m:\u001b[0m\u001b[1;33m\u001b[0m\u001b[1;33m\u001b[0m\u001b[0m\n\u001b[0;32m     12\u001b[0m \u001b[1;33m\u001b[0m\u001b[0m\n\u001b[1;32m---> 13\u001b[1;33m         \u001b[0mnew_values\u001b[0m\u001b[1;33m,\u001b[0m\u001b[0mindex\u001b[0m \u001b[1;33m=\u001b[0m \u001b[0mchoose\u001b[0m\u001b[1;33m(\u001b[0m\u001b[0mvalues\u001b[0m\u001b[1;33m)\u001b[0m\u001b[1;33m\u001b[0m\u001b[1;33m\u001b[0m\u001b[0m\n\u001b[0m\u001b[0;32m     14\u001b[0m \u001b[1;33m\u001b[0m\u001b[0m\n\u001b[0;32m     15\u001b[0m         \u001b[0mholder\u001b[0m\u001b[1;33m,\u001b[0m\u001b[0mc\u001b[0m\u001b[1;33m=\u001b[0m\u001b[0mnew_holder\u001b[0m\u001b[1;33m(\u001b[0m\u001b[0mnew_values\u001b[0m\u001b[1;33m,\u001b[0m\u001b[0mindex\u001b[0m\u001b[1;33m,\u001b[0m\u001b[0mc\u001b[0m\u001b[1;33m)\u001b[0m\u001b[1;33m\u001b[0m\u001b[1;33m\u001b[0m\u001b[0m\n",
      "\u001b[1;32m<ipython-input-38-12943be2eee3>\u001b[0m in \u001b[0;36mchoose\u001b[1;34m(values)\u001b[0m\n\u001b[0;32m      5\u001b[0m     \u001b[1;32mwhile\u001b[0m\u001b[1;33m(\u001b[0m\u001b[0mplace\u001b[0m \u001b[1;32mnot\u001b[0m \u001b[1;32min\u001b[0m \u001b[0mvalues\u001b[0m\u001b[1;33m)\u001b[0m\u001b[1;33m:\u001b[0m\u001b[1;33m\u001b[0m\u001b[1;33m\u001b[0m\u001b[0m\n\u001b[0;32m      6\u001b[0m \u001b[1;33m\u001b[0m\u001b[0m\n\u001b[1;32m----> 7\u001b[1;33m         \u001b[0mplace\u001b[0m\u001b[1;33m=\u001b[0m\u001b[0mint\u001b[0m\u001b[1;33m(\u001b[0m\u001b[0minput\u001b[0m\u001b[1;33m(\u001b[0m\u001b[1;34m\"Enter number b/w 1 to 9 >>\"\u001b[0m\u001b[1;33m)\u001b[0m\u001b[1;33m)\u001b[0m\u001b[1;33m\u001b[0m\u001b[1;33m\u001b[0m\u001b[0m\n\u001b[0m\u001b[0;32m      8\u001b[0m \u001b[1;33m\u001b[0m\u001b[0m\n\u001b[0;32m      9\u001b[0m         \u001b[1;32mif\u001b[0m \u001b[0mplace\u001b[0m \u001b[1;32mnot\u001b[0m \u001b[1;32min\u001b[0m \u001b[0mvalues\u001b[0m\u001b[1;33m:\u001b[0m\u001b[1;33m\u001b[0m\u001b[1;33m\u001b[0m\u001b[0m\n",
      "\u001b[1;31mValueError\u001b[0m: invalid literal for int() with base 10: 'y'"
     ]
    }
   ],
   "source": [
    "    def Tic_Tac_Toe():\n",
    "        \n",
    "        holder={1:\" \",2:\" \",3:\" \",4:\" \",5:\" \",6:\" \",7:\" \",8:\" \",9:\" \"}\n",
    "        c=1\n",
    "        values = list(range(1,10))\n",
    "        interest = start()\n",
    "\n",
    "        if interest:\n",
    "            print_board()\n",
    "\n",
    "        while(interest):\n",
    "\n",
    "            new_values,index = choose(values)\n",
    "\n",
    "            holder,c=new_holder(new_values,index,c)\n",
    "            \n",
    "            progress=check(holder,c)\n",
    "            if progress=='Complete':\n",
    "                break\n",
    "\n",
    "            interest = still_interested()\n",
    "            \n",
    "    Tic_Tac_Toe()"
   ]
  },
  {
   "cell_type": "code",
   "execution_count": null,
   "metadata": {},
   "outputs": [],
   "source": []
  }
 ]
}